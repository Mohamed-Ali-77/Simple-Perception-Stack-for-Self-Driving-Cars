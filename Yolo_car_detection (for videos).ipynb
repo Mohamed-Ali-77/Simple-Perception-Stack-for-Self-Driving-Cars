{
 "cells": [
  {
   "cell_type": "markdown",
   "id": "cfd31d12",
   "metadata": {},
   "source": [
    "#### Importing libraries"
   ]
  },
  {
   "cell_type": "code",
   "execution_count": 1,
   "id": "63f752b2",
   "metadata": {},
   "outputs": [],
   "source": [
    "import numpy as np\n",
    "import time\n",
    "import cv2\n",
    "import os\n",
    "import glob\n",
    "import matplotlib.pyplot as plt"
   ]
  },
  {
   "cell_type": "code",
   "execution_count": 2,
   "id": "9f560647",
   "metadata": {},
   "outputs": [],
   "source": [
    "def process_video(img):\n",
    "    if img is not None:\n",
    "        weights_path = os.path.join(\"Yolo\", \"yolov3.weights\")\n",
    "        config_path = os.path.join(\"Yolo\", \"yolov3.cfg\")\n",
    "        net = cv2.dnn.readNetFromDarknet(config_path , weights_path)\n",
    "    \n",
    "        (H, W) = (720, 1280)\n",
    "\n",
    "        layers_names = ['yolo_82','yolo_94','yolo_106']\n",
    "    \n",
    "        blob = cv2.dnn.blobFromImage(img, 1/255.0, (416, 416), crop=False, swapRB = False)\n",
    "        net.setInput(blob)\n",
    "        \n",
    "        layers_output = net.forward(layers_names)\n",
    "    \n",
    "        boxes =[]\n",
    "        confidences = []\n",
    "        classIDs = []\n",
    "    \n",
    "        for output in layers_output:\n",
    "            for detection in output:\n",
    "                scores = detection[5:]\n",
    "                classID = np.argmax(scores)\n",
    "                confidence = scores[classID]\n",
    "        \n",
    "                if confidence >0.85:\n",
    "                    box = detection[:4] * np.array([W , H, W, H])\n",
    "                    bx, by, bw, bh = box.astype(\"int\")\n",
    "            \n",
    "            \n",
    "                    x = int(bx - (bw / 2))\n",
    "                    y = int(by - (bh / 2))\n",
    "            \n",
    "            \n",
    "                    boxes.append([x, y, int(bw), int(bh)])\n",
    "                    confidences.append(confidence)\n",
    "                    classIDs.append(classID)\n",
    "    \n",
    "        idxs = cv2.dnn.NMSBoxes(boxes, confidences, 0.8, 0.8)\n",
    "    \n",
    "        labels_path = os.path.join(\"Yolo\", \"coco.names.txt\")\n",
    "        labels = open(labels_path).read().strip().split(\"\\n\")\n",
    "        \n",
    "        if(len(idxs) > 0):\n",
    "            for i in idxs.flatten():\n",
    "                (x, y) = [boxes[i][0], boxes[i][1]]\n",
    "                (w, h) = [boxes[i][2], boxes[i][3]]\n",
    "    \n",
    "                cv2.rectangle(img, (x, y), (x + w, y + h), (50,50,250), 2)\n",
    "                text = f\"{labels[classIDs[i]]}: {confidences[i]:.3f}\"\n",
    "                # calculate text width & height to draw the transparent boxes as background of the text\n",
    "                (text_width, text_height) = cv2.getTextSize(text, cv2.FONT_HERSHEY_SIMPLEX, fontScale=1, thickness=2)[0]\n",
    "                text_offset_x = x\n",
    "                text_offset_y = y - 5\n",
    "                box_coords = ((text_offset_x, text_offset_y), (text_offset_x + text_width + 2, text_offset_y - text_height))\n",
    "                overlay = img.copy()\n",
    "                cv2.rectangle(overlay, box_coords[0], box_coords[1], color=(50,50,250), thickness=cv2.FILLED)\n",
    "                # add opacity (transparency to the box)\n",
    "                img = cv2.addWeighted(overlay, 0.6, img, 0.4, 0)\n",
    "                # now put the text (label: confidence %)\n",
    "                cv2.putText(img, text, (x, y - 5), cv2.FONT_HERSHEY_SIMPLEX,\n",
    "                    fontScale = 1, color=(0, 0, 0), thickness=2)\n",
    "        \n",
    "        return img"
   ]
  },
  {
   "cell_type": "markdown",
   "id": "e2e99571",
   "metadata": {},
   "source": [
    "#### Import everything needed to edit/save/watch video clips"
   ]
  },
  {
   "cell_type": "code",
   "execution_count": 3,
   "id": "91d3c805",
   "metadata": {},
   "outputs": [],
   "source": [
    "from moviepy.editor import VideoFileClip\n",
    "from IPython.display import HTML"
   ]
  },
  {
   "cell_type": "markdown",
   "id": "23678768",
   "metadata": {},
   "source": [
    "#### Choose your processing video"
   ]
  },
  {
   "cell_type": "code",
   "execution_count": 4,
   "id": "9b029029",
   "metadata": {},
   "outputs": [
    {
     "name": "stdout",
     "output_type": "stream",
     "text": [
      "Moviepy - Building video challenge_video_output.mp4.\n",
      "Moviepy - Writing video challenge_video_output.mp4\n",
      "\n"
     ]
    },
    {
     "name": "stderr",
     "output_type": "stream",
     "text": [
      "                                                              \r"
     ]
    },
    {
     "name": "stdout",
     "output_type": "stream",
     "text": [
      "Moviepy - Done !\n",
      "Moviepy - video ready challenge_video_output.mp4\n",
      "CPU times: total: 28min 1s\n",
      "Wall time: 8min 44s\n"
     ]
    }
   ],
   "source": [
    "clip2_path = os.path.join(\"test_videos\", \"challenge_video.mp4\")\n",
    "clip2 = VideoFileClip(clip2_path)\n",
    "challenge_output = 'challenge_video_output.mp4'\n",
    "challenge_clip = clip2.fl_image(process_video) #NOTE: this function expects color images!!\n",
    "%time challenge_clip.write_videofile(challenge_output, audio=False) "
   ]
  },
  {
   "cell_type": "code",
   "execution_count": 8,
   "id": "0643c4df",
   "metadata": {},
   "outputs": [
    {
     "name": "stdout",
     "output_type": "stream",
     "text": [
      "MoviePy - Building file demo.gif with imageio.\n"
     ]
    },
    {
     "name": "stderr",
     "output_type": "stream",
     "text": [
      "                                                              \r"
     ]
    }
   ],
   "source": [
    "videoClip = VideoFileClip(\"challenge_video_output.mp4\")\n",
    "videoClip.write_gif(\"demo.gif\")"
   ]
  },
  {
   "cell_type": "code",
   "execution_count": null,
   "id": "1c68401d",
   "metadata": {},
   "outputs": [],
   "source": []
  }
 ],
 "metadata": {
  "kernelspec": {
   "display_name": "myenv",
   "language": "python",
   "name": "python3"
  },
  "language_info": {
   "codemirror_mode": {
    "name": "ipython",
    "version": 3
   },
   "file_extension": ".py",
   "mimetype": "text/x-python",
   "name": "python",
   "nbconvert_exporter": "python",
   "pygments_lexer": "ipython3",
   "version": "3.10.6"
  },
  "vscode": {
   "interpreter": {
    "hash": "154d516aab6dd4208bc66da6d7624c43ef1d79af17ae95c00e67c75415c4f834"
   }
  }
 },
 "nbformat": 4,
 "nbformat_minor": 5
}
